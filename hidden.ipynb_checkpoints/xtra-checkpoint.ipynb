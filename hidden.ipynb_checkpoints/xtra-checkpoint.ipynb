{
 "cells": [
  {
   "cell_type": "code",
   "execution_count": 2,
   "id": "45fe8afd",
   "metadata": {},
   "outputs": [],
   "source": [
    "import numpy as np\n",
    "from sklearn.model_selection import train_test_split\n",
    "from sklearn.metrics import accuracy_score\n",
    "from sklearn.svm import SVC\n"
   ]
  },
  {
   "cell_type": "code",
   "execution_count": 3,
   "id": "bafd7b44",
   "metadata": {},
   "outputs": [],
   "source": [
    "# Load the Kannada MNIST dataset (make sure to have 'train.csv' and 'test.csv' files)\n",
    "train_data = np.genfromtxt('train.csv', delimiter=',', skip_header=1)\n",
    "test_data = np.genfromtxt('test.csv', delimiter=',', skip_header=1)\n"
   ]
  },
  {
   "cell_type": "code",
   "execution_count": 4,
   "id": "3d52e164",
   "metadata": {},
   "outputs": [],
   "source": [
    "\n",
    "# Extract features (pixels) and labels from the dataset\n",
    "X_train = train_data[:, 1:]\n",
    "y_train = train_data[:, 0]\n",
    "\n",
    "X_test = test_data[:, 1:]\n",
    "y_test = test_data[:, 0]\n"
   ]
  },
  {
   "cell_type": "code",
   "execution_count": 5,
   "id": "6e7e0b1a",
   "metadata": {},
   "outputs": [],
   "source": [
    "\n",
    "# Normalize the pixel values to range [0, 1]\n",
    "X_train = X_train / 255.0\n",
    "X_test = X_test / 255.0\n",
    "\n",
    "# Split the dataset into training and testing sets\n",
    "X_train, X_val, y_train, y_val = train_test_split(X_train, y_train, test_size=0.1, random_state=42)\n"
   ]
  },
  {
   "cell_type": "code",
   "execution_count": 6,
   "id": "9fce4383",
   "metadata": {},
   "outputs": [],
   "source": [
    "\n",
    "# k-Nearest Neighbors (KNN) Algorithm\n",
    "def euclidean_distance(x1, x2):\n",
    "    return np.sqrt(np.sum((x1 - x2) ** 2))\n",
    "\n",
    "def knn_predict(X_train, y_train, x_new, k):\n",
    "    distances = [euclidean_distance(x_new, x) for x in X_train]\n",
    "    k_indices = np.argsort(distances)[:k]\n",
    "    k_nearest_labels = [y_train[i] for i in k_indices]\n",
    "    return np.argmax(np.bincount(k_nearest_labels))\n",
    "\n",
    "def knn(X_train, y_train, X_test, k):\n",
    "    y_pred = [knn_predict(X_train, y_train, x_test, k) for x_test in X_test]\n",
    "    return y_pred\n"
   ]
  },
  {
   "cell_type": "code",
   "execution_count": 7,
   "id": "26ebd3c7",
   "metadata": {},
   "outputs": [
    {
     "name": "stdout",
     "output_type": "stream",
     "text": [
      "SVM Accuracy: 97.02%\n"
     ]
    }
   ],
   "source": [
    "# Support Vector Machine (SVM) Algorithm\n",
    "svm_model = SVC(kernel='linear', C=1.0)\n",
    "svm_model.fit(X_train, y_train)\n",
    "y_pred_svm = svm_model.predict(X_val)\n",
    "accuracy_svm = accuracy_score(y_val, y_pred_svm) * 100\n",
    "print(\"SVM Accuracy: {:.2f}%\".format(accuracy_svm))\n"
   ]
  },
  {
   "cell_type": "code",
   "execution_count": null,
   "id": "00aad72d",
   "metadata": {},
   "outputs": [],
   "source": [
    "k = 5  # Number of neighbors for KNN\n",
    "y_pred_knn = knn(X_train, y_train, X_val, k)\n",
    "accuracy_knn = accuracy_score(y_val, y_pred_knn) * 100\n",
    "print(\"KNN Accuracy: {:.2f}%\".format(accuracy_knn))"
   ]
  },
  {
   "cell_type": "code",
   "execution_count": null,
   "id": "d1825940",
   "metadata": {},
   "outputs": [],
   "source": []
  }
 ],
 "metadata": {
  "kernelspec": {
   "display_name": "Python 3 (ipykernel)",
   "language": "python",
   "name": "python3"
  },
  "language_info": {
   "codemirror_mode": {
    "name": "ipython",
    "version": 3
   },
   "file_extension": ".py",
   "mimetype": "text/x-python",
   "name": "python",
   "nbconvert_exporter": "python",
   "pygments_lexer": "ipython3",
   "version": "3.9.7"
  }
 },
 "nbformat": 4,
 "nbformat_minor": 5
}
